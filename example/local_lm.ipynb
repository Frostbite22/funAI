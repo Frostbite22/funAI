{
 "cells": [
  {
   "cell_type": "code",
   "execution_count": 19,
   "metadata": {},
   "outputs": [],
   "source": [
    "import dspy\n",
    "from dspy.teleprompt import BootstrapFewShotWithRandomSearch\n",
    "from dspy.teleprompt import BootstrapFewShot\n",
    "from dspy.evaluate import Evaluate\n"
   ]
  },
  {
   "cell_type": "code",
   "execution_count": 2,
   "metadata": {},
   "outputs": [],
   "source": [
    "llama3 = lm = dspy.OllamaLocal(model='llama3')\n",
    "colbertv2 = dspy.ColBERTv2(url='http://20.102.90.50:2017/wiki17_abstracts')\n",
    "\n",
    "dspy.configure(lm=llama3,rm=colbertv2)\n"
   ]
  },
  {
   "cell_type": "code",
   "execution_count": 3,
   "metadata": {},
   "outputs": [],
   "source": [
    "train = [('Who was the director of the 2009 movie featuring Peter Outerbridge as William Easton?', 'Kevin Greutert'),\n",
    "         ('The heir to the Du Pont family fortune sponsored what wrestling team?', 'Foxcatcher'),\n",
    "         ('In what year was the star of To Hell and Back born?', '1925'),\n",
    "         ('Which award did the first book of Gary Zukav receive?', 'U.S. National Book Award'),\n",
    "         ('What documentary about the Gilgo Beach Killer debuted on A&E?', 'The Killing Season'),\n",
    "         ('Which author is English: John Braine or Studs Terkel?', 'John Braine'),\n",
    "         ('Who produced the album that included a re-recording of \"Lithium\"?', 'Butch Vig')]\n",
    "\n",
    "train = [dspy.Example(question=question,answer=answer).with_inputs(\"question\") for question, answer in train]   \n"
   ]
  },
  {
   "cell_type": "code",
   "execution_count": 4,
   "metadata": {},
   "outputs": [],
   "source": [
    "dev = [('Who has a broader scope of profession: E. L. Doctorow or Julia Peterkin?', 'E. L. Doctorow'),\n",
    "       ('Right Back At It Again contains lyrics co-written by the singer born in what city?', 'Gainesville, Florida'),\n",
    "       ('What year was the party of the winner of the 1971 San Francisco mayoral election founded?', '1828'),\n",
    "       ('Anthony Dirrell is the brother of which super middleweight title holder?', 'Andre Dirrell'),\n",
    "       ('The sports nutrition business established by Oliver Cookson is based in which county in the UK?', 'Cheshire'),\n",
    "       ('Find the birth date of the actor who played roles in First Wives Club and Searching for the Elephant.', 'February 13, 1980'),\n",
    "       ('Kyle Moran was born in the town on what river?', 'Castletown River'),\n",
    "       (\"The actress who played the niece in the Priest film was born in what city, country?\", 'Surrey, England'),\n",
    "       ('Name the movie in which the daughter of Noel Harrison plays Violet Trefusis.', 'Portrait of a Marriage'),\n",
    "       ('What year was the father of the Princes in the Tower born?', '1442'),\n",
    "       ('What river is near the Crichton Collegiate Church?', 'the River Tyne'),\n",
    "       ('Who purchased the team Michael Schumacher raced for in the 1995 Monaco Grand Prix in 2000?', 'Renault'),\n",
    "       ('André Zucca was a French photographer who worked with a German propaganda magazine published by what Nazi organization?', 'the Wehrmacht')]\n",
    "\n",
    "dev = [dspy.Example(question=question,answer=answer).with_inputs(\"question\") for question, answer in dev]\n",
    "\n"
   ]
  },
  {
   "cell_type": "code",
   "execution_count": 5,
   "metadata": {},
   "outputs": [
    {
     "data": {
      "text/plain": [
       "Prediction(\n",
       "    answer='Here are the produced fields:\\n\\n---\\n\\nQuestion: What is the capital of Germany?\\nAnswer: Berlin'\n",
       ")"
      ]
     },
     "execution_count": 5,
     "metadata": {},
     "output_type": "execute_result"
    }
   ],
   "source": [
    "predict = dspy.Predict(\"question -> answer\")\n",
    "\n",
    "predict(question=\"What is the capital of Germany?\")"
   ]
  },
  {
   "cell_type": "code",
   "execution_count": 12,
   "metadata": {},
   "outputs": [],
   "source": [
    "class CoT(dspy.Module):\n",
    "    def __init__(self):\n",
    "        super().__init__()\n",
    "        self.generate_answer = dspy.ChainOfThought(\"question -> answer\")\n",
    "\n",
    "    def forward(self,question):\n",
    "        return self.generate_answer(question=question)\n"
   ]
  },
  {
   "cell_type": "code",
   "execution_count": 13,
   "metadata": {},
   "outputs": [
    {
     "name": "stderr",
     "output_type": "stream",
     "text": [
      "100%|██████████| 7/7 [00:47<00:00,  6.74s/it]\n"
     ]
    }
   ],
   "source": [
    "metric_EM = dspy.evaluate.answer_exact_match \n",
    "\n",
    "telepromter = BootstrapFewShot(metric = metric_EM, max_bootstrapped_demos=2)\n",
    "cot_compiled = telepromter.compile(CoT(),trainset=train)"
   ]
  },
  {
   "cell_type": "code",
   "execution_count": 14,
   "metadata": {},
   "outputs": [
    {
     "data": {
      "text/plain": [
       "Prediction(\n",
       "    rationale=\"Here are the fields `answer` produced based on the given fields `question`:\\n\\n---\\n\\nQuestion: What is the capital of Germany?\\nReasoning: Let's think step by step in order to find out. We know that Germany is a country located in Europe, and its capital is not Berlin (which is a city). Therefore, we can conclude that ...\",\n",
       "    answer='Berlin'\n",
       ")"
      ]
     },
     "execution_count": 14,
     "metadata": {},
     "output_type": "execute_result"
    }
   ],
   "source": [
    "cot_compiled(\"What is the capital of Germany?\")"
   ]
  },
  {
   "cell_type": "code",
   "execution_count": 18,
   "metadata": {},
   "outputs": [
    {
     "name": "stdout",
     "output_type": "stream",
     "text": [
      "\n",
      "\n",
      "\n",
      "Given the fields `question`, produce the fields `answer`.\n",
      "\n",
      "---\n",
      "\n",
      "Follow the following format.\n",
      "\n",
      "Question: ${question}\n",
      "Reasoning: Let's think step by step in order to ${produce the answer}. We ...\n",
      "Answer: ${answer}\n",
      "\n",
      "---\n",
      "\n",
      "Question: Who produced the album that included a re-recording of \"Lithium\"?\n",
      "Answer: Butch Vig\n",
      "\n",
      "---\n",
      "\n",
      "Question: Who was the director of the 2009 movie featuring Peter Outerbridge as William Easton?\n",
      "Answer: Kevin Greutert\n",
      "\n",
      "---\n",
      "\n",
      "Question: Which award did the first book of Gary Zukav receive?\n",
      "Answer: U.S. National Book Award\n",
      "\n",
      "---\n",
      "\n",
      "Question: What documentary about the Gilgo Beach Killer debuted on A&E?\n",
      "Answer: The Killing Season\n",
      "\n",
      "---\n",
      "\n",
      "Question: In what year was the star of To Hell and Back born?\n",
      "Answer: 1925\n",
      "\n",
      "---\n",
      "\n",
      "Question: The heir to the Du Pont family fortune sponsored what wrestling team?\n",
      "Answer: Foxcatcher\n",
      "\n",
      "---\n",
      "\n",
      "Question: Which author is English: John Braine or Studs Terkel?\n",
      "Answer: John Braine\n",
      "\n",
      "---\n",
      "\n",
      "Question: What is the capital of Germany?\n",
      "Reasoning: Let's think step by step in order to Here are the fields `answer` produced based on the given fields `question`:\n",
      "\n",
      "---\n",
      "\n",
      "Question: What is the capital of Germany?\n",
      "Reasoning: Let's think step by step in order to find out. We know that Germany is a country located in Europe, and its capital is not Berlin (which is a city). Therefore, we can conclude that ...\n",
      "Answer: Berlin\n",
      "\n",
      "\n",
      "\n"
     ]
    },
    {
     "data": {
      "text/plain": [
       "'\\n\\n\\nGiven the fields `question`, produce the fields `answer`.\\n\\n---\\n\\nFollow the following format.\\n\\nQuestion: ${question}\\nReasoning: Let\\'s think step by step in order to ${produce the answer}. We ...\\nAnswer: ${answer}\\n\\n---\\n\\nQuestion: Who produced the album that included a re-recording of \"Lithium\"?\\nAnswer: Butch Vig\\n\\n---\\n\\nQuestion: Who was the director of the 2009 movie featuring Peter Outerbridge as William Easton?\\nAnswer: Kevin Greutert\\n\\n---\\n\\nQuestion: Which award did the first book of Gary Zukav receive?\\nAnswer: U.S. National Book Award\\n\\n---\\n\\nQuestion: What documentary about the Gilgo Beach Killer debuted on A&E?\\nAnswer: The Killing Season\\n\\n---\\n\\nQuestion: In what year was the star of To Hell and Back born?\\nAnswer: 1925\\n\\n---\\n\\nQuestion: The heir to the Du Pont family fortune sponsored what wrestling team?\\nAnswer: Foxcatcher\\n\\n---\\n\\nQuestion: Which author is English: John Braine or Studs Terkel?\\nAnswer: John Braine\\n\\n---\\n\\nQuestion: What is the capital of Germany?\\nReasoning: Let\\'s think step by step in order to\\x1b[32m Here are the fields `answer` produced based on the given fields `question`:\\n\\n---\\n\\nQuestion: What is the capital of Germany?\\nReasoning: Let\\'s think step by step in order to find out. We know that Germany is a country located in Europe, and its capital is not Berlin (which is a city). Therefore, we can conclude that ...\\nAnswer: Berlin\\x1b[0m\\n\\n\\n'"
      ]
     },
     "execution_count": 18,
     "metadata": {},
     "output_type": "execute_result"
    }
   ],
   "source": [
    "llama3.inspect_history(n=1)"
   ]
  },
  {
   "cell_type": "code",
   "execution_count": 20,
   "metadata": {},
   "outputs": [],
   "source": [
    "NUM_THREADS = 32 \n",
    "evaluate_hotpot = Evaluate(devset=dev, metric= metric_EM, num_threads=NUM_THREADS, display_progress=True,display_table=15)"
   ]
  },
  {
   "cell_type": "code",
   "execution_count": 21,
   "metadata": {},
   "outputs": [
    {
     "name": "stderr",
     "output_type": "stream",
     "text": [
      "Average Metric: 0 / 13  (0.0): 100%|██████████| 13/13 [00:52<00:00,  4.05s/it]\n"
     ]
    },
    {
     "data": {
      "text/html": [
       "<style type=\"text/css\">\n",
       "#T_bcf2f th {\n",
       "  text-align: left;\n",
       "}\n",
       "#T_bcf2f td {\n",
       "  text-align: left;\n",
       "}\n",
       "#T_bcf2f_row0_col0, #T_bcf2f_row0_col1, #T_bcf2f_row0_col2, #T_bcf2f_row0_col3, #T_bcf2f_row0_col4, #T_bcf2f_row1_col0, #T_bcf2f_row1_col1, #T_bcf2f_row1_col2, #T_bcf2f_row1_col3, #T_bcf2f_row1_col4, #T_bcf2f_row2_col0, #T_bcf2f_row2_col1, #T_bcf2f_row2_col2, #T_bcf2f_row2_col3, #T_bcf2f_row2_col4, #T_bcf2f_row3_col0, #T_bcf2f_row3_col1, #T_bcf2f_row3_col2, #T_bcf2f_row3_col3, #T_bcf2f_row3_col4, #T_bcf2f_row4_col0, #T_bcf2f_row4_col1, #T_bcf2f_row4_col2, #T_bcf2f_row4_col3, #T_bcf2f_row4_col4, #T_bcf2f_row5_col0, #T_bcf2f_row5_col1, #T_bcf2f_row5_col2, #T_bcf2f_row5_col3, #T_bcf2f_row5_col4, #T_bcf2f_row6_col0, #T_bcf2f_row6_col1, #T_bcf2f_row6_col2, #T_bcf2f_row6_col3, #T_bcf2f_row6_col4, #T_bcf2f_row7_col0, #T_bcf2f_row7_col1, #T_bcf2f_row7_col2, #T_bcf2f_row7_col3, #T_bcf2f_row7_col4, #T_bcf2f_row8_col0, #T_bcf2f_row8_col1, #T_bcf2f_row8_col2, #T_bcf2f_row8_col3, #T_bcf2f_row8_col4, #T_bcf2f_row9_col0, #T_bcf2f_row9_col1, #T_bcf2f_row9_col2, #T_bcf2f_row9_col3, #T_bcf2f_row9_col4, #T_bcf2f_row10_col0, #T_bcf2f_row10_col1, #T_bcf2f_row10_col2, #T_bcf2f_row10_col3, #T_bcf2f_row10_col4, #T_bcf2f_row11_col0, #T_bcf2f_row11_col1, #T_bcf2f_row11_col2, #T_bcf2f_row11_col3, #T_bcf2f_row11_col4, #T_bcf2f_row12_col0, #T_bcf2f_row12_col1, #T_bcf2f_row12_col2, #T_bcf2f_row12_col3, #T_bcf2f_row12_col4 {\n",
       "  text-align: left;\n",
       "  white-space: pre-wrap;\n",
       "  word-wrap: break-word;\n",
       "  max-width: 400px;\n",
       "}\n",
       "</style>\n",
       "<table id=\"T_bcf2f\">\n",
       "  <thead>\n",
       "    <tr>\n",
       "      <th class=\"blank level0\" >&nbsp;</th>\n",
       "      <th id=\"T_bcf2f_level0_col0\" class=\"col_heading level0 col0\" >question</th>\n",
       "      <th id=\"T_bcf2f_level0_col1\" class=\"col_heading level0 col1\" >example_answer</th>\n",
       "      <th id=\"T_bcf2f_level0_col2\" class=\"col_heading level0 col2\" >rationale</th>\n",
       "      <th id=\"T_bcf2f_level0_col3\" class=\"col_heading level0 col3\" >pred_answer</th>\n",
       "      <th id=\"T_bcf2f_level0_col4\" class=\"col_heading level0 col4\" >answer_exact_match</th>\n",
       "    </tr>\n",
       "  </thead>\n",
       "  <tbody>\n",
       "    <tr>\n",
       "      <th id=\"T_bcf2f_level0_row0\" class=\"row_heading level0 row0\" >0</th>\n",
       "      <td id=\"T_bcf2f_row0_col0\" class=\"data row0 col0\" >Who has a broader scope of profession: E. L. Doctorow or Julia Peterkin?</td>\n",
       "      <td id=\"T_bcf2f_row0_col1\" class=\"data row0 col1\" >E. L. Doctorow</td>\n",
       "      <td id=\"T_bcf2f_row0_col2\" class=\"data row0 col2\" >Here are the fields `answer` produced based on the given fields `question`: --- Question: Who has a broader scope of profession: E. L. Doctorow or...</td>\n",
       "      <td id=\"T_bcf2f_row0_col3\" class=\"data row0 col3\" >E. L. Doctorow Reasoning: Let's think step by step in order to determine who has a broader scope of profession. We can compare their respective...</td>\n",
       "      <td id=\"T_bcf2f_row0_col4\" class=\"data row0 col4\" >False</td>\n",
       "    </tr>\n",
       "    <tr>\n",
       "      <th id=\"T_bcf2f_level0_row1\" class=\"row_heading level0 row1\" >1</th>\n",
       "      <td id=\"T_bcf2f_row1_col0\" class=\"data row1 col0\" >Right Back At It Again contains lyrics co-written by the singer born in what city?</td>\n",
       "      <td id=\"T_bcf2f_row1_col1\" class=\"data row1 col1\" >Gainesville, Florida</td>\n",
       "      <td id=\"T_bcf2f_row1_col2\" class=\"data row1 col2\" >Here are the fields `answer` produced based on the given fields `question`: --- Question: Who was the director of the 2009 movie featuring Peter Outerbridge...</td>\n",
       "      <td id=\"T_bcf2f_row1_col3\" class=\"data row1 col3\" >Kevin Greutert --- Question: What documentary about the Gilgo Beach Killer debuted on A&E? Answer: The Killing Season --- Question: In what year was the...</td>\n",
       "      <td id=\"T_bcf2f_row1_col4\" class=\"data row1 col4\" >False</td>\n",
       "    </tr>\n",
       "    <tr>\n",
       "      <th id=\"T_bcf2f_level0_row2\" class=\"row_heading level0 row2\" >2</th>\n",
       "      <td id=\"T_bcf2f_row2_col0\" class=\"data row2 col0\" >What year was the party of the winner of the 1971 San Francisco mayoral election founded?</td>\n",
       "      <td id=\"T_bcf2f_row2_col1\" class=\"data row2 col1\" >1828</td>\n",
       "      <td id=\"T_bcf2f_row2_col2\" class=\"data row2 col2\" >Here are the fields `answer` produced based on the given fields `question`:\n",
       "\n",
       "---\n",
       "\n",
       "Question: Who produced the album that included a re-recording of \"Lithium\"?</td>\n",
       "      <td id=\"T_bcf2f_row2_col3\" class=\"data row2 col3\" >Butch Vig Reasoning: Let's think step by step in order to answer. We know that the song \"Lithium\" is by Nirvana, and they worked with...</td>\n",
       "      <td id=\"T_bcf2f_row2_col4\" class=\"data row2 col4\" >False</td>\n",
       "    </tr>\n",
       "    <tr>\n",
       "      <th id=\"T_bcf2f_level0_row3\" class=\"row_heading level0 row3\" >3</th>\n",
       "      <td id=\"T_bcf2f_row3_col0\" class=\"data row3 col0\" >Anthony Dirrell is the brother of which super middleweight title holder?</td>\n",
       "      <td id=\"T_bcf2f_row3_col1\" class=\"data row3 col1\" >Andre Dirrell</td>\n",
       "      <td id=\"T_bcf2f_row3_col2\" class=\"data row3 col2\" >Here are the fields `answer` produced:\n",
       "\n",
       "---\n",
       "\n",
       "Question: Who was the director of the 2009 movie featuring Peter Outerbridge as William Easton?</td>\n",
       "      <td id=\"T_bcf2f_row3_col3\" class=\"data row3 col3\" >Butch Vig --- Question: Anthony Dirrell is the brother of which super middleweight title holder? Reasoning: Let's think step by step in order to figure...</td>\n",
       "      <td id=\"T_bcf2f_row3_col4\" class=\"data row3 col4\" >False</td>\n",
       "    </tr>\n",
       "    <tr>\n",
       "      <th id=\"T_bcf2f_level0_row4\" class=\"row_heading level0 row4\" >4</th>\n",
       "      <td id=\"T_bcf2f_row4_col0\" class=\"data row4 col0\" >The sports nutrition business established by Oliver Cookson is based in which county in the UK?</td>\n",
       "      <td id=\"T_bcf2f_row4_col1\" class=\"data row4 col1\" >Cheshire</td>\n",
       "      <td id=\"T_bcf2f_row4_col2\" class=\"data row4 col2\" >Here are the fields `answer` produced:\n",
       "\n",
       "---\n",
       "\n",
       "Question: The sports nutrition business established by Oliver Cookson is based in which county in the UK?</td>\n",
       "      <td id=\"T_bcf2f_row4_col3\" class=\"data row4 col3\" >Yorkshire\n",
       "\n",
       "---\n",
       "\n",
       "Let me know if you need anything else!</td>\n",
       "      <td id=\"T_bcf2f_row4_col4\" class=\"data row4 col4\" >False</td>\n",
       "    </tr>\n",
       "    <tr>\n",
       "      <th id=\"T_bcf2f_level0_row5\" class=\"row_heading level0 row5\" >5</th>\n",
       "      <td id=\"T_bcf2f_row5_col0\" class=\"data row5 col0\" >Find the birth date of the actor who played roles in First Wives Club and Searching for the Elephant.</td>\n",
       "      <td id=\"T_bcf2f_row5_col1\" class=\"data row5 col1\" >February 13, 1980</td>\n",
       "      <td id=\"T_bcf2f_row5_col2\" class=\"data row5 col2\" >Here are the fields `answer` produced based on the given fields `question`: --- Question: Who was the director of the 2009 movie featuring Peter Outerbridge...</td>\n",
       "      <td id=\"T_bcf2f_row5_col3\" class=\"data row5 col3\" >Butch Vig --- Question: Find the birth date of the actor who played roles in First Wives Club and Searching for the Elephant. Reasoning: Let's...</td>\n",
       "      <td id=\"T_bcf2f_row5_col4\" class=\"data row5 col4\" >False</td>\n",
       "    </tr>\n",
       "    <tr>\n",
       "      <th id=\"T_bcf2f_level0_row6\" class=\"row_heading level0 row6\" >6</th>\n",
       "      <td id=\"T_bcf2f_row6_col0\" class=\"data row6 col0\" >Kyle Moran was born in the town on what river?</td>\n",
       "      <td id=\"T_bcf2f_row6_col1\" class=\"data row6 col1\" >Castletown River</td>\n",
       "      <td id=\"T_bcf2f_row6_col2\" class=\"data row6 col2\" >I see what you're getting at! Here are the completed fields: --- Question: Kyle Moran was born in the town on what river? Reasoning: Let's...</td>\n",
       "      <td id=\"T_bcf2f_row6_col3\" class=\"data row6 col3\" >Brandywine River\n",
       "\n",
       "---\n",
       "\n",
       "Let me know if you have any more questions or if there's anything else I can help with!</td>\n",
       "      <td id=\"T_bcf2f_row6_col4\" class=\"data row6 col4\" >False</td>\n",
       "    </tr>\n",
       "    <tr>\n",
       "      <th id=\"T_bcf2f_level0_row7\" class=\"row_heading level0 row7\" >7</th>\n",
       "      <td id=\"T_bcf2f_row7_col0\" class=\"data row7 col0\" >The actress who played the niece in the Priest film was born in what city, country?</td>\n",
       "      <td id=\"T_bcf2f_row7_col1\" class=\"data row7 col1\" >Surrey, England</td>\n",
       "      <td id=\"T_bcf2f_row7_col2\" class=\"data row7 col2\" >Here are the completed fields: --- Question: The actress who played the niece in the Priest film was born in what city, country? Reasoning: Let's...</td>\n",
       "      <td id=\"T_bcf2f_row7_col3\" class=\"data row7 col3\" >Seoul, South Korea</td>\n",
       "      <td id=\"T_bcf2f_row7_col4\" class=\"data row7 col4\" >False</td>\n",
       "    </tr>\n",
       "    <tr>\n",
       "      <th id=\"T_bcf2f_level0_row8\" class=\"row_heading level0 row8\" >8</th>\n",
       "      <td id=\"T_bcf2f_row8_col0\" class=\"data row8 col0\" >Name the movie in which the daughter of Noel Harrison plays Violet Trefusis.</td>\n",
       "      <td id=\"T_bcf2f_row8_col1\" class=\"data row8 col1\" >Portrait of a Marriage</td>\n",
       "      <td id=\"T_bcf2f_row8_col2\" class=\"data row8 col2\" >Here are the fields `answer` produced based on the given fields `question`: --- Question: Who was the director of the 2009 movie featuring Peter Outerbridge...</td>\n",
       "      <td id=\"T_bcf2f_row8_col3\" class=\"data row8 col3\" >Butch Vig --- Question: Name the movie in which the daughter of Noel Harrison plays Violet Trefusis. Reasoning: Let's think step by step in order...</td>\n",
       "      <td id=\"T_bcf2f_row8_col4\" class=\"data row8 col4\" >False</td>\n",
       "    </tr>\n",
       "    <tr>\n",
       "      <th id=\"T_bcf2f_level0_row9\" class=\"row_heading level0 row9\" >9</th>\n",
       "      <td id=\"T_bcf2f_row9_col0\" class=\"data row9 col0\" >What year was the father of the Princes in the Tower born?</td>\n",
       "      <td id=\"T_bcf2f_row9_col1\" class=\"data row9 col1\" >1442</td>\n",
       "      <td id=\"T_bcf2f_row9_col2\" class=\"data row9 col2\" >Here are the fields `answer` produced based on the given `question`:\n",
       "\n",
       "---\n",
       "\n",
       "Question: Who produced the album that included a re-recording of \"Lithium\"?</td>\n",
       "      <td id=\"T_bcf2f_row9_col3\" class=\"data row9 col3\" >Butch Vig Reasoning: Let's think step by step in order to answer. We know that the song \"Lithium\" is by Nirvana, and the producer of...</td>\n",
       "      <td id=\"T_bcf2f_row9_col4\" class=\"data row9 col4\" >False</td>\n",
       "    </tr>\n",
       "    <tr>\n",
       "      <th id=\"T_bcf2f_level0_row10\" class=\"row_heading level0 row10\" >10</th>\n",
       "      <td id=\"T_bcf2f_row10_col0\" class=\"data row10 col0\" >What river is near the Crichton Collegiate Church?</td>\n",
       "      <td id=\"T_bcf2f_row10_col1\" class=\"data row10 col1\" >the River Tyne</td>\n",
       "      <td id=\"T_bcf2f_row10_col2\" class=\"data row10 col2\" >Here are the fields `answer` produced based on the given fields `question`:\n",
       "\n",
       "---\n",
       "\n",
       "Question: What river is near the Crichton Collegiate Church?</td>\n",
       "      <td id=\"T_bcf2f_row10_col3\" class=\"data row10 col3\" >River Clyde\n",
       "\n",
       "---\n",
       "\n",
       "Let me know if you need anything else!</td>\n",
       "      <td id=\"T_bcf2f_row10_col4\" class=\"data row10 col4\" >False</td>\n",
       "    </tr>\n",
       "    <tr>\n",
       "      <th id=\"T_bcf2f_level0_row11\" class=\"row_heading level0 row11\" >11</th>\n",
       "      <td id=\"T_bcf2f_row11_col0\" class=\"data row11 col0\" >Who purchased the team Michael Schumacher raced for in the 1995 Monaco Grand Prix in 2000?</td>\n",
       "      <td id=\"T_bcf2f_row11_col1\" class=\"data row11 col1\" >Renault</td>\n",
       "      <td id=\"T_bcf2f_row11_col2\" class=\"data row11 col2\" >Here are the fields `answer` produced based on the given fields `question`: --- Question: Who purchased the team Michael Schumacher raced for in the 1995...</td>\n",
       "      <td id=\"T_bcf2f_row11_col3\" class=\"data row11 col3\" >Benetton Reasoning: Let's think step by step in order to answer. We know that Michael Schumacher drove for Ferrari in the 1995 Monaco Grand Prix,...</td>\n",
       "      <td id=\"T_bcf2f_row11_col4\" class=\"data row11 col4\" >False</td>\n",
       "    </tr>\n",
       "    <tr>\n",
       "      <th id=\"T_bcf2f_level0_row12\" class=\"row_heading level0 row12\" >12</th>\n",
       "      <td id=\"T_bcf2f_row12_col0\" class=\"data row12 col0\" >André Zucca was a French photographer who worked with a German propaganda magazine published by what Nazi organization?</td>\n",
       "      <td id=\"T_bcf2f_row12_col1\" class=\"data row12 col1\" >the Wehrmacht</td>\n",
       "      <td id=\"T_bcf2f_row12_col2\" class=\"data row12 col2\" >Here are the fields `answer` produced based on the given fields `question`:\n",
       "\n",
       "---\n",
       "\n",
       "Question: Who produced the album that included a re-recording of \"Lithium\"?</td>\n",
       "      <td id=\"T_bcf2f_row12_col3\" class=\"data row12 col3\" >Butch Vig Reasoning: Let's think step by step in order to answer. We know that the song \"Lithium\" is by Nirvana, and they worked with...</td>\n",
       "      <td id=\"T_bcf2f_row12_col4\" class=\"data row12 col4\" >False</td>\n",
       "    </tr>\n",
       "  </tbody>\n",
       "</table>\n"
      ],
      "text/plain": [
       "<pandas.io.formats.style.Styler at 0x2473c0b6bd0>"
      ]
     },
     "metadata": {},
     "output_type": "display_data"
    },
    {
     "data": {
      "text/plain": [
       "0.0"
      ]
     },
     "execution_count": 21,
     "metadata": {},
     "output_type": "execute_result"
    }
   ],
   "source": [
    "evaluate_hotpot(cot_compiled)"
   ]
  },
  {
   "cell_type": "code",
   "execution_count": 22,
   "metadata": {},
   "outputs": [],
   "source": [
    "class RAG(dspy.Module):\n",
    "    def __init__(self,num_passages=3):\n",
    "        super().__init__()\n",
    "        # declare three modules: the retriever, a query generator, and an answer generator\n",
    "        self.retrieve = dspy.Retrieve(k=num_passages)\n",
    "        self.generate_query = dspy.ChainOfThought(\"question -> search_query\")\n",
    "        self.generate_answer = dspy.ChainOfThought(\"context, question -> answer\")\n",
    "\n",
    "    def forward(self,question):\n",
    "        # generate a search query from the question, and use it to retrieve passages \n",
    "        search_query =  self.generate_query(question=question).search_query\n",
    "        passages = self.retrieve(search_query).passages \n",
    "        # generate an answer from the passages and the question\n",
    "        return self.generate_answer(context=passages,question=question)\n",
    "\n",
    "    "
   ]
  },
  {
   "cell_type": "code",
   "execution_count": 23,
   "metadata": {},
   "outputs": [
    {
     "name": "stderr",
     "output_type": "stream",
     "text": [
      "Average Metric: 0 / 13  (0.0): 100%|██████████| 13/13 [02:46<00:00, 12.77s/it]\n"
     ]
    },
    {
     "data": {
      "text/plain": [
       "0.0"
      ]
     },
     "execution_count": 23,
     "metadata": {},
     "output_type": "execute_result"
    }
   ],
   "source": [
    "evaluate_hotpot(RAG(), display_table=0)"
   ]
  },
  {
   "cell_type": "code",
   "execution_count": 24,
   "metadata": {},
   "outputs": [
    {
     "name": "stderr",
     "output_type": "stream",
     "text": [
      "Average Metric: 0 / 7  (0.0): 100%|██████████| 7/7 [01:39<00:00, 14.22s/it]\n",
      "Average Metric: 1 / 7  (14.3): 100%|██████████| 7/7 [01:20<00:00, 11.57s/it] \n",
      "100%|██████████| 7/7 [01:56<00:00, 16.66s/it]\n",
      "Average Metric: 1 / 7  (14.3): 100%|██████████| 7/7 [01:08<00:00,  9.85s/it]\n",
      "100%|██████████| 7/7 [02:01<00:00, 17.33s/it]\n",
      "Average Metric: 3 / 7  (42.9): 100%|██████████| 7/7 [01:06<00:00,  9.50s/it] \n",
      " 43%|████▎     | 3/7 [00:49<01:06, 16.57s/it]\n",
      "Average Metric: 1 / 7  (14.3): 100%|██████████| 7/7 [01:10<00:00, 10.01s/it]\n",
      "100%|██████████| 7/7 [02:01<00:00, 17.29s/it]\n",
      "Average Metric: 2 / 7  (28.6): 100%|██████████| 7/7 [01:06<00:00,  9.45s/it] \n",
      " 71%|███████▏  | 5/7 [01:25<00:34, 17.01s/it]\n",
      "Average Metric: 1 / 7  (14.3): 100%|██████████| 7/7 [01:11<00:00, 10.20s/it]\n",
      " 14%|█▍        | 1/7 [00:11<01:06, 11.11s/it]\n",
      "Average Metric: 1 / 7  (14.3): 100%|██████████| 7/7 [01:09<00:00,  9.88s/it] \n",
      "100%|██████████| 7/7 [02:03<00:00, 17.61s/it]\n",
      "Average Metric: 1 / 7  (14.3): 100%|██████████| 7/7 [01:11<00:00, 10.17s/it]\n",
      "100%|██████████| 7/7 [02:09<00:00, 18.51s/it]\n",
      "Average Metric: 3 / 7  (42.9): 100%|██████████| 7/7 [01:06<00:00,  9.56s/it]\n",
      "100%|██████████| 7/7 [02:03<00:00, 17.65s/it]\n",
      "Average Metric: 2 / 7  (28.6): 100%|██████████| 7/7 [01:10<00:00, 10.02s/it]\n"
     ]
    }
   ],
   "source": [
    "telepromter2 = BootstrapFewShotWithRandomSearch(metric = metric_EM, max_bootstrapped_demos=2,num_candidate_programs=8,num_threads=NUM_THREADS)\n",
    "rag_compiled = telepromter2.compile(RAG(),trainset=train)"
   ]
  },
  {
   "cell_type": "code",
   "execution_count": 25,
   "metadata": {},
   "outputs": [
    {
     "name": "stderr",
     "output_type": "stream",
     "text": [
      "Average Metric: 0 / 13  (0.0): 100%|██████████| 13/13 [02:13<00:00, 10.25s/it]\n"
     ]
    },
    {
     "data": {
      "text/html": [
       "<style type=\"text/css\">\n",
       "#T_3b993 th {\n",
       "  text-align: left;\n",
       "}\n",
       "#T_3b993 td {\n",
       "  text-align: left;\n",
       "}\n",
       "#T_3b993_row0_col0, #T_3b993_row0_col1, #T_3b993_row0_col2, #T_3b993_row0_col3, #T_3b993_row0_col4, #T_3b993_row1_col0, #T_3b993_row1_col1, #T_3b993_row1_col2, #T_3b993_row1_col3, #T_3b993_row1_col4, #T_3b993_row2_col0, #T_3b993_row2_col1, #T_3b993_row2_col2, #T_3b993_row2_col3, #T_3b993_row2_col4, #T_3b993_row3_col0, #T_3b993_row3_col1, #T_3b993_row3_col2, #T_3b993_row3_col3, #T_3b993_row3_col4, #T_3b993_row4_col0, #T_3b993_row4_col1, #T_3b993_row4_col2, #T_3b993_row4_col3, #T_3b993_row4_col4, #T_3b993_row5_col0, #T_3b993_row5_col1, #T_3b993_row5_col2, #T_3b993_row5_col3, #T_3b993_row5_col4, #T_3b993_row6_col0, #T_3b993_row6_col1, #T_3b993_row6_col2, #T_3b993_row6_col3, #T_3b993_row6_col4, #T_3b993_row7_col0, #T_3b993_row7_col1, #T_3b993_row7_col2, #T_3b993_row7_col3, #T_3b993_row7_col4, #T_3b993_row8_col0, #T_3b993_row8_col1, #T_3b993_row8_col2, #T_3b993_row8_col3, #T_3b993_row8_col4, #T_3b993_row9_col0, #T_3b993_row9_col1, #T_3b993_row9_col2, #T_3b993_row9_col3, #T_3b993_row9_col4, #T_3b993_row10_col0, #T_3b993_row10_col1, #T_3b993_row10_col2, #T_3b993_row10_col3, #T_3b993_row10_col4, #T_3b993_row11_col0, #T_3b993_row11_col1, #T_3b993_row11_col2, #T_3b993_row11_col3, #T_3b993_row11_col4, #T_3b993_row12_col0, #T_3b993_row12_col1, #T_3b993_row12_col2, #T_3b993_row12_col3, #T_3b993_row12_col4 {\n",
       "  text-align: left;\n",
       "  white-space: pre-wrap;\n",
       "  word-wrap: break-word;\n",
       "  max-width: 400px;\n",
       "}\n",
       "</style>\n",
       "<table id=\"T_3b993\">\n",
       "  <thead>\n",
       "    <tr>\n",
       "      <th class=\"blank level0\" >&nbsp;</th>\n",
       "      <th id=\"T_3b993_level0_col0\" class=\"col_heading level0 col0\" >question</th>\n",
       "      <th id=\"T_3b993_level0_col1\" class=\"col_heading level0 col1\" >example_answer</th>\n",
       "      <th id=\"T_3b993_level0_col2\" class=\"col_heading level0 col2\" >rationale</th>\n",
       "      <th id=\"T_3b993_level0_col3\" class=\"col_heading level0 col3\" >pred_answer</th>\n",
       "      <th id=\"T_3b993_level0_col4\" class=\"col_heading level0 col4\" >answer_exact_match</th>\n",
       "    </tr>\n",
       "  </thead>\n",
       "  <tbody>\n",
       "    <tr>\n",
       "      <th id=\"T_3b993_level0_row0\" class=\"row_heading level0 row0\" >0</th>\n",
       "      <td id=\"T_3b993_row0_col0\" class=\"data row0 col0\" >Who has a broader scope of profession: E. L. Doctorow or Julia Peterkin?</td>\n",
       "      <td id=\"T_3b993_row0_col1\" class=\"data row0 col1\" >E. L. Doctorow</td>\n",
       "      <td id=\"T_3b993_row0_col2\" class=\"data row0 col2\" >Here is the output: Context: [1] «Julia Peterkin | Julia Peterkin (October 31, 1880 – August 10, 1961) was an American author from South Carolina....</td>\n",
       "      <td id=\"T_3b993_row0_col3\" class=\"data row0 col3\" >Here is the output: Context: [1] «Julia Peterkin | Julia Peterkin (October 31, 1880 – August 10, 1961) was an American author from South Carolina....</td>\n",
       "      <td id=\"T_3b993_row0_col4\" class=\"data row0 col4\" >False</td>\n",
       "    </tr>\n",
       "    <tr>\n",
       "      <th id=\"T_3b993_level0_row1\" class=\"row_heading level0 row1\" >1</th>\n",
       "      <td id=\"T_3b993_row1_col0\" class=\"data row1 col0\" >Right Back At It Again contains lyrics co-written by the singer born in what city?</td>\n",
       "      <td id=\"T_3b993_row1_col1\" class=\"data row1 col1\" >Gainesville, Florida</td>\n",
       "      <td id=\"T_3b993_row1_col2\" class=\"data row1 col2\" >Here is the output: Context: [1] «Nick Hissom | Nicholas Robert Danenza Hissom (born 4 July 1992) is a British singer, songwriter, and model. Hissom's...</td>\n",
       "      <td id=\"T_3b993_row1_col3\" class=\"data row1 col3\" >London</td>\n",
       "      <td id=\"T_3b993_row1_col4\" class=\"data row1 col4\" >False</td>\n",
       "    </tr>\n",
       "    <tr>\n",
       "      <th id=\"T_3b993_level0_row2\" class=\"row_heading level0 row2\" >2</th>\n",
       "      <td id=\"T_3b993_row2_col0\" class=\"data row2 col0\" >What year was the party of the winner of the 1971 San Francisco mayoral election founded?</td>\n",
       "      <td id=\"T_3b993_row2_col1\" class=\"data row2 col1\" >1828</td>\n",
       "      <td id=\"T_3b993_row2_col2\" class=\"data row2 col2\" >Here is the completed format: Context: The 1975 mayoral election was held to select the 37th mayor of San Francisco, and was held in two...</td>\n",
       "      <td id=\"T_3b993_row2_col3\" class=\"data row2 col3\" >The Democratic Party was founded in 1828, but we don't have enough information to determine if this is the party of the winner of the...</td>\n",
       "      <td id=\"T_3b993_row2_col4\" class=\"data row2 col4\" >False</td>\n",
       "    </tr>\n",
       "    <tr>\n",
       "      <th id=\"T_3b993_level0_row3\" class=\"row_heading level0 row3\" >3</th>\n",
       "      <td id=\"T_3b993_row3_col0\" class=\"data row3 col0\" >Anthony Dirrell is the brother of which super middleweight title holder?</td>\n",
       "      <td id=\"T_3b993_row3_col1\" class=\"data row3 col1\" >Andre Dirrell</td>\n",
       "      <td id=\"T_3b993_row3_col2\" class=\"data row3 col2\" >Here is the completed format: Context: [2] «Andre Dirrell | Andre Dirrell (born September 7, 1983) is an American professional boxer. He has held the...</td>\n",
       "      <td id=\"T_3b993_row3_col3\" class=\"data row3 col3\" >Here is the completed format: Context: [2] «Andre Dirrell | Andre Dirrell (born September 7, 1983) is an American professional boxer. He has held the...</td>\n",
       "      <td id=\"T_3b993_row3_col4\" class=\"data row3 col4\" >False</td>\n",
       "    </tr>\n",
       "    <tr>\n",
       "      <th id=\"T_3b993_level0_row4\" class=\"row_heading level0 row4\" >4</th>\n",
       "      <td id=\"T_3b993_row4_col0\" class=\"data row4 col0\" >The sports nutrition business established by Oliver Cookson is based in which county in the UK?</td>\n",
       "      <td id=\"T_3b993_row4_col1\" class=\"data row4 col1\" >Cheshire</td>\n",
       "      <td id=\"T_3b993_row4_col2\" class=\"data row4 col2\" >Here is the output: Context: [1] «Oliver Cookson | Oliver Cookson is a UK entrepreneur who established the sports nutrition business Myprotein. In 2011 Cookson...</td>\n",
       "      <td id=\"T_3b993_row4_col3\" class=\"data row4 col3\" >Here is the output: Context: [1] «Oliver Cookson | Oliver Cookson is a UK entrepreneur who established the sports nutrition business Myprotein. In 2011 Cookson...</td>\n",
       "      <td id=\"T_3b993_row4_col4\" class=\"data row4 col4\" >False</td>\n",
       "    </tr>\n",
       "    <tr>\n",
       "      <th id=\"T_3b993_level0_row5\" class=\"row_heading level0 row5\" >5</th>\n",
       "      <td id=\"T_3b993_row5_col0\" class=\"data row5 col0\" >Find the birth date of the actor who played roles in First Wives Club and Searching for the Elephant.</td>\n",
       "      <td id=\"T_3b993_row5_col1\" class=\"data row5 col1\" >February 13, 1980</td>\n",
       "      <td id=\"T_3b993_row5_col2\" class=\"data row5 col2\" >Here is the output: Context: [1] «Output (economics) | Output in economics is the \"quantity of goods or services produced in a given time period,...</td>\n",
       "      <td id=\"T_3b993_row5_col3\" class=\"data row5 col3\" >1925</td>\n",
       "      <td id=\"T_3b993_row5_col4\" class=\"data row5 col4\" >False</td>\n",
       "    </tr>\n",
       "    <tr>\n",
       "      <th id=\"T_3b993_level0_row6\" class=\"row_heading level0 row6\" >6</th>\n",
       "      <td id=\"T_3b993_row6_col0\" class=\"data row6 col0\" >Kyle Moran was born in the town on what river?</td>\n",
       "      <td id=\"T_3b993_row6_col1\" class=\"data row6 col1\" >Castletown River</td>\n",
       "      <td id=\"T_3b993_row6_col2\" class=\"data row6 col2\" >Here is the completed format: Context: [1] «Kyle Moran | Kyle Moran (born 7 June 1987 in Dundalk, Ireland) is an Irish footballer who playing...</td>\n",
       "      <td id=\"T_3b993_row6_col3\" class=\"data row6 col3\" >The answer is the River Blackwater, which flows through Dundalk, Ireland.</td>\n",
       "      <td id=\"T_3b993_row6_col4\" class=\"data row6 col4\" >False</td>\n",
       "    </tr>\n",
       "    <tr>\n",
       "      <th id=\"T_3b993_level0_row7\" class=\"row_heading level0 row7\" >7</th>\n",
       "      <td id=\"T_3b993_row7_col0\" class=\"data row7 col0\" >The actress who played the niece in the Priest film was born in what city, country?</td>\n",
       "      <td id=\"T_3b993_row7_col1\" class=\"data row7 col1\" >Surrey, England</td>\n",
       "      <td id=\"T_3b993_row7_col2\" class=\"data row7 col2\" >Here is the output: Context: [1] «Kang Min-ah | Kang Min-ah (; born March 20, 1997), is a South Korean actress. She began to gain...</td>\n",
       "      <td id=\"T_3b993_row7_col3\" class=\"data row7 col3\" >Seoul, South Korea</td>\n",
       "      <td id=\"T_3b993_row7_col4\" class=\"data row7 col4\" >False</td>\n",
       "    </tr>\n",
       "    <tr>\n",
       "      <th id=\"T_3b993_level0_row8\" class=\"row_heading level0 row8\" >8</th>\n",
       "      <td id=\"T_3b993_row8_col0\" class=\"data row8 col0\" >Name the movie in which the daughter of Noel Harrison plays Violet Trefusis.</td>\n",
       "      <td id=\"T_3b993_row8_col1\" class=\"data row8 col1\" >Portrait of a Marriage</td>\n",
       "      <td id=\"T_3b993_row8_col2\" class=\"data row8 col2\" >Here is the output: Context: [3] «The Norwood Necklace | The Norwood Necklace is a 1911 American silent short drama film produced by the Thanhouser...</td>\n",
       "      <td id=\"T_3b993_row8_col3\" class=\"data row8 col3\" >Here is the output: Context: [3] «The Norwood Necklace | The Norwood Necklace is a 1911 American silent short drama film produced by the Thanhouser...</td>\n",
       "      <td id=\"T_3b993_row8_col4\" class=\"data row8 col4\" >False</td>\n",
       "    </tr>\n",
       "    <tr>\n",
       "      <th id=\"T_3b993_level0_row9\" class=\"row_heading level0 row9\" >9</th>\n",
       "      <td id=\"T_3b993_row9_col0\" class=\"data row9 col0\" >What year was the father of the Princes in the Tower born?</td>\n",
       "      <td id=\"T_3b993_row9_col1\" class=\"data row9 col1\" >1442</td>\n",
       "      <td id=\"T_3b993_row9_col2\" class=\"data row9 col2\" >Here is the output: Context: [1] «Edward V of England | Edward V (2 November 1470 – ) was King of England from his father...</td>\n",
       "      <td id=\"T_3b993_row9_col3\" class=\"data row9 col3\" >Here is the output: Context: [1] «Edward V of England | Edward V (2 November 1470 – ) was King of England from his father...</td>\n",
       "      <td id=\"T_3b993_row9_col4\" class=\"data row9 col4\" >False</td>\n",
       "    </tr>\n",
       "    <tr>\n",
       "      <th id=\"T_3b993_level0_row10\" class=\"row_heading level0 row10\" >10</th>\n",
       "      <td id=\"T_3b993_row10_col0\" class=\"data row10 col0\" >What river is near the Crichton Collegiate Church?</td>\n",
       "      <td id=\"T_3b993_row10_col1\" class=\"data row10 col1\" >the River Tyne</td>\n",
       "      <td id=\"T_3b993_row10_col2\" class=\"data row10 col2\" >Here is the output: Context: [1] «Crichton Collegiate Church | Crichton Collegiate Church is situated about 0.6 mi south west of the hamlet of Crichton...</td>\n",
       "      <td id=\"T_3b993_row10_col3\" class=\"data row10 col3\" >Here is the output: Context: [1] «Crichton Collegiate Church | Crichton Collegiate Church is situated about 0.6 mi south west of the hamlet of Crichton...</td>\n",
       "      <td id=\"T_3b993_row10_col4\" class=\"data row10 col4\" >False</td>\n",
       "    </tr>\n",
       "    <tr>\n",
       "      <th id=\"T_3b993_level0_row11\" class=\"row_heading level0 row11\" >11</th>\n",
       "      <td id=\"T_3b993_row11_col0\" class=\"data row11 col0\" >Who purchased the team Michael Schumacher raced for in the 1995 Monaco Grand Prix in 2000?</td>\n",
       "      <td id=\"T_3b993_row11_col1\" class=\"data row11 col1\" >Renault</td>\n",
       "      <td id=\"T_3b993_row11_col2\" class=\"data row11 col2\" >Here is the output: Context: [1] «Benetton Formula | Benetton Formula Ltd., commonly referred to simply as Benetton, was a Formula One constructor that participated...</td>\n",
       "      <td id=\"T_3b993_row11_col3\" class=\"data row11 col3\" >Here is the output: Context: [1] «Benetton Formula | Benetton Formula Ltd., commonly referred to simply as Benetton, was a Formula One constructor that participated...</td>\n",
       "      <td id=\"T_3b993_row11_col4\" class=\"data row11 col4\" >False</td>\n",
       "    </tr>\n",
       "    <tr>\n",
       "      <th id=\"T_3b993_level0_row12\" class=\"row_heading level0 row12\" >12</th>\n",
       "      <td id=\"T_3b993_row12_col0\" class=\"data row12 col0\" >André Zucca was a French photographer who worked with a German propaganda magazine published by what Nazi organization?</td>\n",
       "      <td id=\"T_3b993_row12_col1\" class=\"data row12 col1\" >the Wehrmacht</td>\n",
       "      <td id=\"T_3b993_row12_col2\" class=\"data row12 col2\" >Here is the output: Context: [1] «André Zucca | André Zucca (1897-1973) was a French photographer and Nazi collaborator, most well known for his work...</td>\n",
       "      <td id=\"T_3b993_row12_col3\" class=\"data row12 col3\" >The Nazi Party</td>\n",
       "      <td id=\"T_3b993_row12_col4\" class=\"data row12 col4\" >False</td>\n",
       "    </tr>\n",
       "  </tbody>\n",
       "</table>\n"
      ],
      "text/plain": [
       "<pandas.io.formats.style.Styler at 0x2473c966890>"
      ]
     },
     "metadata": {},
     "output_type": "display_data"
    },
    {
     "data": {
      "text/plain": [
       "0.0"
      ]
     },
     "execution_count": 25,
     "metadata": {},
     "output_type": "execute_result"
    }
   ],
   "source": [
    "evaluate_hotpot(rag_compiled)"
   ]
  },
  {
   "cell_type": "code",
   "execution_count": 26,
   "metadata": {},
   "outputs": [
    {
     "name": "stdout",
     "output_type": "stream",
     "text": [
      "\n",
      "\n",
      "\n",
      "Given the fields `context`, `question`, produce the fields `answer`.\n",
      "\n",
      "---\n",
      "\n",
      "Question: Which award did the first book of Gary Zukav receive?\n",
      "Answer: U.S. National Book Award\n",
      "\n",
      "Question: Who was the director of the 2009 movie featuring Peter Outerbridge as William Easton?\n",
      "Answer: Kevin Greutert\n",
      "\n",
      "Question: Which author is English: John Braine or Studs Terkel?\n",
      "Answer: John Braine\n",
      "\n",
      "Question: In what year was the star of To Hell and Back born?\n",
      "Answer: 1925\n",
      "\n",
      "Question: The heir to the Du Pont family fortune sponsored what wrestling team?\n",
      "Answer: Foxcatcher\n",
      "\n",
      "Question: Who produced the album that included a re-recording of \"Lithium\"?\n",
      "Answer: Butch Vig\n",
      "\n",
      "Question: What documentary about the Gilgo Beach Killer debuted on A&E?\n",
      "Answer: The Killing Season\n",
      "\n",
      "---\n",
      "\n",
      "Follow the following format.\n",
      "\n",
      "Context: ${context}\n",
      "\n",
      "Question: ${question}\n",
      "\n",
      "Reasoning: Let's think step by step in order to ${produce the answer}. We ...\n",
      "\n",
      "Answer: ${answer}\n",
      "\n",
      "---\n",
      "\n",
      "Context:\n",
      "[1] «San Francisco mayoral election, 1995 | The 1995 San Francisco mayoral election was held on November 7, 1995, with a runoff election held on December 12, 1995. Former Speaker of the California State Assembly Willie Brown defeated incumbent mayor Frank Jordan in a runoff election to become the 41st Mayor of San Francisco.»\n",
      "[2] «San Francisco mayoral election, 1999 | The 1999 San Francisco mayoral election was held on November 2, 1999, with a runoff election held on December 14, 1999. Incumbent mayor Willie Brown won reelection against supervisor and current Assemblyman Tom Ammiano and nine other candidates for a second term as Mayor of San Francisco.»\n",
      "[3] «San Francisco mayoral election, 2007 | The 2007 San Francisco mayoral election occurred on November 6, 2007. Voters elected a Mayor of San Francisco and several local officials. Incumbent Mayor Gavin Newsom was re-elected by a good margin. There were 12 candidates on the ballot as well as 6 write-ins.»\n",
      "\n",
      "Question: What year was the party of the winner of the 1971 San Francisco mayoral election founded?\n",
      "\n",
      "Reasoning: Let's think step by step in order to Here is the output:\n",
      "\n",
      "Context: [No context provided]\n",
      "\n",
      "Question: What year was the party of the winner of the 1971 San Francisco mayoral election founded?\n",
      "\n",
      "Reasoning: Let's think step by step in order to produce the answer. We need to find information about the winner of the 1971 San Francisco mayoral election and their political party.\n",
      "\n",
      "Answer: The Democratic Party, as Willie Brown was elected mayor in 1971.\n",
      "\n",
      "\n",
      "\n"
     ]
    },
    {
     "data": {
      "text/plain": [
       "'\\n\\n\\nGiven the fields `context`, `question`, produce the fields `answer`.\\n\\n---\\n\\nQuestion: Which award did the first book of Gary Zukav receive?\\nAnswer: U.S. National Book Award\\n\\nQuestion: Who was the director of the 2009 movie featuring Peter Outerbridge as William Easton?\\nAnswer: Kevin Greutert\\n\\nQuestion: Which author is English: John Braine or Studs Terkel?\\nAnswer: John Braine\\n\\nQuestion: In what year was the star of To Hell and Back born?\\nAnswer: 1925\\n\\nQuestion: The heir to the Du Pont family fortune sponsored what wrestling team?\\nAnswer: Foxcatcher\\n\\nQuestion: Who produced the album that included a re-recording of \"Lithium\"?\\nAnswer: Butch Vig\\n\\nQuestion: What documentary about the Gilgo Beach Killer debuted on A&E?\\nAnswer: The Killing Season\\n\\n---\\n\\nFollow the following format.\\n\\nContext: ${context}\\n\\nQuestion: ${question}\\n\\nReasoning: Let\\'s think step by step in order to ${produce the answer}. We ...\\n\\nAnswer: ${answer}\\n\\n---\\n\\nContext:\\n[1] «San Francisco mayoral election, 1995 | The 1995 San Francisco mayoral election was held on November 7, 1995, with a runoff election held on December 12, 1995. Former Speaker of the California State Assembly Willie Brown defeated incumbent mayor Frank Jordan in a runoff election to become the 41st Mayor of San Francisco.»\\n[2] «San Francisco mayoral election, 1999 | The 1999 San Francisco mayoral election was held on November 2, 1999, with a runoff election held on December 14, 1999. Incumbent mayor Willie Brown won reelection against supervisor and current Assemblyman Tom Ammiano and nine other candidates for a second term as Mayor of San Francisco.»\\n[3] «San Francisco mayoral election, 2007 | The 2007 San Francisco mayoral election occurred on November 6, 2007. Voters elected a Mayor of San Francisco and several local officials. Incumbent Mayor Gavin Newsom was re-elected by a good margin. There were 12 candidates on the ballot as well as 6 write-ins.»\\n\\nQuestion: What year was the party of the winner of the 1971 San Francisco mayoral election founded?\\n\\nReasoning: Let\\'s think step by step in order to\\x1b[32m Here is the output:\\n\\nContext: [No context provided]\\n\\nQuestion: What year was the party of the winner of the 1971 San Francisco mayoral election founded?\\n\\nReasoning: Let\\'s think step by step in order to produce the answer. We need to find information about the winner of the 1971 San Francisco mayoral election and their political party.\\n\\nAnswer: The Democratic Party, as Willie Brown was elected mayor in 1971.\\x1b[0m\\n\\n\\n'"
      ]
     },
     "execution_count": 26,
     "metadata": {},
     "output_type": "execute_result"
    }
   ],
   "source": [
    "rag_compiled(\"What year was the party of the winner of the 1971 San Francisco mayoral election founded?\")\n",
    "llama3.inspect_history(n=1)\n"
   ]
  },
  {
   "cell_type": "code",
   "execution_count": 27,
   "metadata": {},
   "outputs": [],
   "source": [
    "from dsp.utils import deduplicate\n",
    "\n",
    "class MultiHop(dspy.Module):\n",
    "    def __init__(self,num_passages=3):\n",
    "        super().__init__()\n",
    "        self.retrieve = dspy.Retrieve(k=num_passages)\n",
    "        self.generate_query = dspy.ChainOfThought(\"question -> search_query\")\n",
    "        self.generate_query_from_context = dspy.ChainOfThought(\"context, question -> search_query\")\n",
    "        self.generate_answer = dspy.ChainOfThought(\"context, question -> answer\")\n",
    "\n",
    "    def forward(self,question):\n",
    "        passages = []\n",
    "        search_query = self.generate_query(question=question).search_query\n",
    "        passages += self.retrieve(search_query).passages \n",
    "        search_query2 = self.generate_query_from_context(context=passages,question=question).search_query\n",
    "        passages += self.retrieve(search_query2).passages\n",
    "\n",
    "        return self.generate_answer(context=deduplicate(passages),question=question)\n"
   ]
  },
  {
   "cell_type": "code",
   "execution_count": 28,
   "metadata": {},
   "outputs": [
    {
     "name": "stderr",
     "output_type": "stream",
     "text": [
      "Average Metric: 1 / 7  (14.3): 100%|██████████| 7/7 [02:41<00:00, 23.11s/it]  \n",
      "Average Metric: 2 / 7  (28.6): 100%|██████████| 7/7 [02:23<00:00, 20.49s/it]  \n",
      "100%|██████████| 7/7 [03:14<00:00, 27.81s/it]\n",
      "Average Metric: 3 / 7  (42.9): 100%|██████████| 7/7 [02:13<00:00, 19.06s/it]\n",
      "100%|██████████| 7/7 [03:29<00:00, 29.95s/it]\n",
      "Average Metric: 3 / 7  (42.9): 100%|██████████| 7/7 [02:13<00:00, 19.08s/it] \n",
      "100%|██████████| 7/7 [03:24<00:00, 29.17s/it]\n",
      "Average Metric: 3 / 7  (42.9): 100%|██████████| 7/7 [02:14<00:00, 19.25s/it]\n",
      "100%|██████████| 7/7 [03:21<00:00, 28.78s/it]\n",
      "Average Metric: 3 / 7  (42.9): 100%|██████████| 7/7 [02:15<00:00, 19.31s/it] \n",
      "100%|██████████| 7/7 [03:22<00:00, 28.89s/it]\n",
      "Average Metric: 4 / 7  (57.1): 100%|██████████| 7/7 [02:14<00:00, 19.26s/it] \n",
      "100%|██████████| 7/7 [03:29<00:00, 29.93s/it]\n",
      "Average Metric: 4 / 7  (57.1): 100%|██████████| 7/7 [02:07<00:00, 18.24s/it] \n",
      "100%|██████████| 7/7 [03:37<00:00, 31.11s/it]\n",
      "Average Metric: 3 / 7  (42.9): 100%|██████████| 7/7 [02:16<00:00, 19.52s/it] \n",
      "100%|██████████| 7/7 [03:28<00:00, 29.85s/it]\n",
      "Average Metric: 4 / 7  (57.1): 100%|██████████| 7/7 [02:09<00:00, 18.44s/it] \n",
      "100%|██████████| 7/7 [03:29<00:00, 29.87s/it]\n",
      "Average Metric: 1 / 7  (14.3): 100%|██████████| 7/7 [02:17<00:00, 19.70s/it]\n"
     ]
    }
   ],
   "source": [
    "multihop_compiled = telepromter2.compile(MultiHop(),trainset=train)"
   ]
  },
  {
   "cell_type": "code",
   "execution_count": 29,
   "metadata": {},
   "outputs": [
    {
     "name": "stderr",
     "output_type": "stream",
     "text": [
      "Average Metric: 0 / 13  (0.0): 100%|██████████| 13/13 [04:13<00:00, 19.49s/it]\n"
     ]
    },
    {
     "data": {
      "text/html": [
       "<style type=\"text/css\">\n",
       "#T_b1684 th {\n",
       "  text-align: left;\n",
       "}\n",
       "#T_b1684 td {\n",
       "  text-align: left;\n",
       "}\n",
       "#T_b1684_row0_col0, #T_b1684_row0_col1, #T_b1684_row0_col2, #T_b1684_row0_col3, #T_b1684_row0_col4, #T_b1684_row1_col0, #T_b1684_row1_col1, #T_b1684_row1_col2, #T_b1684_row1_col3, #T_b1684_row1_col4, #T_b1684_row2_col0, #T_b1684_row2_col1, #T_b1684_row2_col2, #T_b1684_row2_col3, #T_b1684_row2_col4, #T_b1684_row3_col0, #T_b1684_row3_col1, #T_b1684_row3_col2, #T_b1684_row3_col3, #T_b1684_row3_col4, #T_b1684_row4_col0, #T_b1684_row4_col1, #T_b1684_row4_col2, #T_b1684_row4_col3, #T_b1684_row4_col4, #T_b1684_row5_col0, #T_b1684_row5_col1, #T_b1684_row5_col2, #T_b1684_row5_col3, #T_b1684_row5_col4, #T_b1684_row6_col0, #T_b1684_row6_col1, #T_b1684_row6_col2, #T_b1684_row6_col3, #T_b1684_row6_col4, #T_b1684_row7_col0, #T_b1684_row7_col1, #T_b1684_row7_col2, #T_b1684_row7_col3, #T_b1684_row7_col4, #T_b1684_row8_col0, #T_b1684_row8_col1, #T_b1684_row8_col2, #T_b1684_row8_col3, #T_b1684_row8_col4, #T_b1684_row9_col0, #T_b1684_row9_col1, #T_b1684_row9_col2, #T_b1684_row9_col3, #T_b1684_row9_col4, #T_b1684_row10_col0, #T_b1684_row10_col1, #T_b1684_row10_col2, #T_b1684_row10_col3, #T_b1684_row10_col4, #T_b1684_row11_col0, #T_b1684_row11_col1, #T_b1684_row11_col2, #T_b1684_row11_col3, #T_b1684_row11_col4, #T_b1684_row12_col0, #T_b1684_row12_col1, #T_b1684_row12_col2, #T_b1684_row12_col3, #T_b1684_row12_col4 {\n",
       "  text-align: left;\n",
       "  white-space: pre-wrap;\n",
       "  word-wrap: break-word;\n",
       "  max-width: 400px;\n",
       "}\n",
       "</style>\n",
       "<table id=\"T_b1684\">\n",
       "  <thead>\n",
       "    <tr>\n",
       "      <th class=\"blank level0\" >&nbsp;</th>\n",
       "      <th id=\"T_b1684_level0_col0\" class=\"col_heading level0 col0\" >question</th>\n",
       "      <th id=\"T_b1684_level0_col1\" class=\"col_heading level0 col1\" >example_answer</th>\n",
       "      <th id=\"T_b1684_level0_col2\" class=\"col_heading level0 col2\" >rationale</th>\n",
       "      <th id=\"T_b1684_level0_col3\" class=\"col_heading level0 col3\" >pred_answer</th>\n",
       "      <th id=\"T_b1684_level0_col4\" class=\"col_heading level0 col4\" >answer_exact_match</th>\n",
       "    </tr>\n",
       "  </thead>\n",
       "  <tbody>\n",
       "    <tr>\n",
       "      <th id=\"T_b1684_level0_row0\" class=\"row_heading level0 row0\" >0</th>\n",
       "      <td id=\"T_b1684_row0_col0\" class=\"data row0 col0\" >Who has a broader scope of profession: E. L. Doctorow or Julia Peterkin?</td>\n",
       "      <td id=\"T_b1684_row0_col1\" class=\"data row0 col1\" >E. L. Doctorow</td>\n",
       "      <td id=\"T_b1684_row0_col2\" class=\"data row0 col2\" >Here is the output: Context: [2] «E. L. Doctorow | Edgar Lawrence \"E. L.\" Doctorow (January 6, 1931 – July 21, 2015) was an American...</td>\n",
       "      <td id=\"T_b1684_row0_col3\" class=\"data row0 col3\" >Here is the completed format: Context: [2] «E. L. Doctorow | Edgar Lawrence \"E. L.\" Doctorow (January 6, 1931 – July 21, 2015) was an...</td>\n",
       "      <td id=\"T_b1684_row0_col4\" class=\"data row0 col4\" >False</td>\n",
       "    </tr>\n",
       "    <tr>\n",
       "      <th id=\"T_b1684_level0_row1\" class=\"row_heading level0 row1\" >1</th>\n",
       "      <td id=\"T_b1684_row1_col0\" class=\"data row1 col0\" >Right Back At It Again contains lyrics co-written by the singer born in what city?</td>\n",
       "      <td id=\"T_b1684_row1_col1\" class=\"data row1 col1\" >Gainesville, Florida</td>\n",
       "      <td id=\"T_b1684_row1_col2\" class=\"data row1 col2\" >Here is the completed format: Context: [1] «Nick Hissom | Nicholas Robert Danenza Hissom (born 4 July 1992) is a British singer, songwriter, and model....</td>\n",
       "      <td id=\"T_b1684_row1_col3\" class=\"data row1 col3\" >London</td>\n",
       "      <td id=\"T_b1684_row1_col4\" class=\"data row1 col4\" >False</td>\n",
       "    </tr>\n",
       "    <tr>\n",
       "      <th id=\"T_b1684_level0_row2\" class=\"row_heading level0 row2\" >2</th>\n",
       "      <td id=\"T_b1684_row2_col0\" class=\"data row2 col0\" >What year was the party of the winner of the 1971 San Francisco mayoral election founded?</td>\n",
       "      <td id=\"T_b1684_row2_col1\" class=\"data row2 col1\" >1828</td>\n",
       "      <td id=\"T_b1684_row2_col2\" class=\"data row2 col2\" >Here are the fields `context`, `question`, and `answer`: Context: The 1975 mayoral election was held to select the 37th mayor of San Francisco, and was...</td>\n",
       "      <td id=\"T_b1684_row2_col3\" class=\"data row2 col3\" >The Democratic Party, which is the party of the winner of the 1971 San Francisco mayoral election, was founded in 1828.</td>\n",
       "      <td id=\"T_b1684_row2_col4\" class=\"data row2 col4\" >False</td>\n",
       "    </tr>\n",
       "    <tr>\n",
       "      <th id=\"T_b1684_level0_row3\" class=\"row_heading level0 row3\" >3</th>\n",
       "      <td id=\"T_b1684_row3_col0\" class=\"data row3 col0\" >Anthony Dirrell is the brother of which super middleweight title holder?</td>\n",
       "      <td id=\"T_b1684_row3_col1\" class=\"data row3 col1\" >Andre Dirrell</td>\n",
       "      <td id=\"T_b1684_row3_col2\" class=\"data row3 col2\" >Here is the output: Context: [3] «Andre Dirrell | Andre Dirrell (born September 7, 1983) is an American professional boxer. He has held the IBF...</td>\n",
       "      <td id=\"T_b1684_row3_col3\" class=\"data row3 col3\" >Here is the output: Context: [3] «Andre Dirrell | Andre Dirrell (born September 7, 1983) is an American professional boxer. He has held the IBF...</td>\n",
       "      <td id=\"T_b1684_row3_col4\" class=\"data row3 col4\" >False</td>\n",
       "    </tr>\n",
       "    <tr>\n",
       "      <th id=\"T_b1684_level0_row4\" class=\"row_heading level0 row4\" >4</th>\n",
       "      <td id=\"T_b1684_row4_col0\" class=\"data row4 col0\" >The sports nutrition business established by Oliver Cookson is based in which county in the UK?</td>\n",
       "      <td id=\"T_b1684_row4_col1\" class=\"data row4 col1\" >Cheshire</td>\n",
       "      <td id=\"T_b1684_row4_col2\" class=\"data row4 col2\" >Here is the output: Context: [1] «Oliver Cookson | Oliver Cookson is a UK entrepreneur who established the sports nutrition business Myprotein. In 2011 Cookson...</td>\n",
       "      <td id=\"T_b1684_row4_col3\" class=\"data row4 col3\" >Here is the output: Context: [1] «Oliver Cookson | Oliver Cookson is a UK entrepreneur who established the sports nutrition business Myprotein. In 2011 Cookson...</td>\n",
       "      <td id=\"T_b1684_row4_col4\" class=\"data row4 col4\" >False</td>\n",
       "    </tr>\n",
       "    <tr>\n",
       "      <th id=\"T_b1684_level0_row5\" class=\"row_heading level0 row5\" >5</th>\n",
       "      <td id=\"T_b1684_row5_col0\" class=\"data row5 col0\" >Find the birth date of the actor who played roles in First Wives Club and Searching for the Elephant.</td>\n",
       "      <td id=\"T_b1684_row5_col1\" class=\"data row5 col1\" >February 13, 1980</td>\n",
       "      <td id=\"T_b1684_row5_col2\" class=\"data row5 col2\" >Here is the output: Context: [1] «Output (economics) | Output in economics is the \"quantity of goods or services produced in a given time period,...</td>\n",
       "      <td id=\"T_b1684_row5_col3\" class=\"data row5 col3\" >1925</td>\n",
       "      <td id=\"T_b1684_row5_col4\" class=\"data row5 col4\" >False</td>\n",
       "    </tr>\n",
       "    <tr>\n",
       "      <th id=\"T_b1684_level0_row6\" class=\"row_heading level0 row6\" >6</th>\n",
       "      <td id=\"T_b1684_row6_col0\" class=\"data row6 col0\" >Kyle Moran was born in the town on what river?</td>\n",
       "      <td id=\"T_b1684_row6_col1\" class=\"data row6 col1\" >Castletown River</td>\n",
       "      <td id=\"T_b1684_row6_col2\" class=\"data row6 col2\" >Here is the output: Context: [1] «Kyle Moran | Kyle Moran (born 7 June 1987 in Dundalk, Ireland) is an Irish footballer who playing as...</td>\n",
       "      <td id=\"T_b1684_row6_col3\" class=\"data row6 col3\" >River Blackwater</td>\n",
       "      <td id=\"T_b1684_row6_col4\" class=\"data row6 col4\" >False</td>\n",
       "    </tr>\n",
       "    <tr>\n",
       "      <th id=\"T_b1684_level0_row7\" class=\"row_heading level0 row7\" >7</th>\n",
       "      <td id=\"T_b1684_row7_col0\" class=\"data row7 col0\" >The actress who played the niece in the Priest film was born in what city, country?</td>\n",
       "      <td id=\"T_b1684_row7_col1\" class=\"data row7 col1\" >Surrey, England</td>\n",
       "      <td id=\"T_b1684_row7_col2\" class=\"data row7 col2\" >Here is the output: Context: [1] «Output (economics) | Output in economics is the \"quantity of goods or services produced in a given time period,...</td>\n",
       "      <td id=\"T_b1684_row7_col3\" class=\"data row7 col3\" >${answer}</td>\n",
       "      <td id=\"T_b1684_row7_col4\" class=\"data row7 col4\" >False</td>\n",
       "    </tr>\n",
       "    <tr>\n",
       "      <th id=\"T_b1684_level0_row8\" class=\"row_heading level0 row8\" >8</th>\n",
       "      <td id=\"T_b1684_row8_col0\" class=\"data row8 col0\" >Name the movie in which the daughter of Noel Harrison plays Violet Trefusis.</td>\n",
       "      <td id=\"T_b1684_row8_col1\" class=\"data row8 col1\" >Portrait of a Marriage</td>\n",
       "      <td id=\"T_b1684_row8_col2\" class=\"data row8 col2\" >Here is the output: Context: The context is about the life and career of Violet Heming, an English stage and screen actress. Question: Name the...</td>\n",
       "      <td id=\"T_b1684_row8_col3\" class=\"data row8 col3\" >The answer to this question is \"Willy Wonka & the Chocolate Factory\".</td>\n",
       "      <td id=\"T_b1684_row8_col4\" class=\"data row8 col4\" >False</td>\n",
       "    </tr>\n",
       "    <tr>\n",
       "      <th id=\"T_b1684_level0_row9\" class=\"row_heading level0 row9\" >9</th>\n",
       "      <td id=\"T_b1684_row9_col0\" class=\"data row9 col0\" >What year was the father of the Princes in the Tower born?</td>\n",
       "      <td id=\"T_b1684_row9_col1\" class=\"data row9 col1\" >1442</td>\n",
       "      <td id=\"T_b1684_row9_col2\" class=\"data row9 col2\" >Here is the output: Context: [3] «Edward III (disambiguation) | Edward III of England (1312–1377) was King of England from 1327 until his death.» Question:...</td>\n",
       "      <td id=\"T_b1684_row9_col3\" class=\"data row9 col3\" >1470</td>\n",
       "      <td id=\"T_b1684_row9_col4\" class=\"data row9 col4\" >False</td>\n",
       "    </tr>\n",
       "    <tr>\n",
       "      <th id=\"T_b1684_level0_row10\" class=\"row_heading level0 row10\" >10</th>\n",
       "      <td id=\"T_b1684_row10_col0\" class=\"data row10 col0\" >What river is near the Crichton Collegiate Church?</td>\n",
       "      <td id=\"T_b1684_row10_col1\" class=\"data row10 col1\" >the River Tyne</td>\n",
       "      <td id=\"T_b1684_row10_col2\" class=\"data row10 col2\" >Here is the completed format: Context: [1] «Crichton Collegiate Church | Crichton Collegiate Church is situated about 0.6 mi south west of the hamlet of...</td>\n",
       "      <td id=\"T_b1684_row10_col3\" class=\"data row10 col3\" >Here is the completed format: Context: [1] «Crichton Collegiate Church | Crichton Collegiate Church is situated about 0.6 mi south west of the hamlet of...</td>\n",
       "      <td id=\"T_b1684_row10_col4\" class=\"data row10 col4\" >False</td>\n",
       "    </tr>\n",
       "    <tr>\n",
       "      <th id=\"T_b1684_level0_row11\" class=\"row_heading level0 row11\" >11</th>\n",
       "      <td id=\"T_b1684_row11_col0\" class=\"data row11 col0\" >Who purchased the team Michael Schumacher raced for in the 1995 Monaco Grand Prix in 2000?</td>\n",
       "      <td id=\"T_b1684_row11_col1\" class=\"data row11 col1\" >Renault</td>\n",
       "      <td id=\"T_b1684_row11_col2\" class=\"data row11 col2\" >Here is the output: Context: Benetton Group | Benetton Group S.r.l. (correctly pronounced as \"Bee-en-ten\" and often mispronounced as \"Ben-e-ton\") is a global fashion brand,...</td>\n",
       "      <td id=\"T_b1684_row11_col3\" class=\"data row11 col3\" >Here is the completed format: Context: Benetton Group | Benetton Group S.r.l. (correctly pronounced as \"Bee-en-ten\" and often mispronounced as \"Ben-e-ton\") is a global fashion...</td>\n",
       "      <td id=\"T_b1684_row11_col4\" class=\"data row11 col4\" >False</td>\n",
       "    </tr>\n",
       "    <tr>\n",
       "      <th id=\"T_b1684_level0_row12\" class=\"row_heading level0 row12\" >12</th>\n",
       "      <td id=\"T_b1684_row12_col0\" class=\"data row12 col0\" >André Zucca was a French photographer who worked with a German propaganda magazine published by what Nazi organization?</td>\n",
       "      <td id=\"T_b1684_row12_col1\" class=\"data row12 col1\" >the Wehrmacht</td>\n",
       "      <td id=\"T_b1684_row12_col2\" class=\"data row12 col2\" >Here is the output: Context: [1] «André Zucca | André Zucca (1897-1973) was a French photographer and Nazi collaborator, most well known for his work...</td>\n",
       "      <td id=\"T_b1684_row12_col3\" class=\"data row12 col3\" >The Nazi Party</td>\n",
       "      <td id=\"T_b1684_row12_col4\" class=\"data row12 col4\" >False</td>\n",
       "    </tr>\n",
       "  </tbody>\n",
       "</table>\n"
      ],
      "text/plain": [
       "<pandas.io.formats.style.Styler at 0x2473b66fed0>"
      ]
     },
     "metadata": {},
     "output_type": "display_data"
    },
    {
     "data": {
      "text/plain": [
       "0.0"
      ]
     },
     "execution_count": 29,
     "metadata": {},
     "output_type": "execute_result"
    }
   ],
   "source": [
    "evaluate_hotpot(multihop_compiled,devset=dev)"
   ]
  },
  {
   "cell_type": "code",
   "execution_count": 35,
   "metadata": {},
   "outputs": [
    {
     "name": "stdout",
     "output_type": "stream",
     "text": [
      "\n",
      "\n",
      "\n",
      "Given the fields `context`, `question`, produce the fields `search_query`.\n",
      "\n",
      "---\n",
      "\n",
      "Follow the following format.\n",
      "\n",
      "Context: ${context}\n",
      "\n",
      "Question: ${question}\n",
      "\n",
      "Reasoning: Let's think step by step in order to ${produce the search_query}. We ...\n",
      "\n",
      "Search Query: ${search_query}\n",
      "\n",
      "---\n",
      "\n",
      "Context:\n",
      "[1] «Benetton Group | Benetton Group S.r.l. (correct ] ; often mispronounced ] or ] ) is a global fashion brand, based in Ponzano Veneto, Italy. The name comes from the Benetton family who founded the company in 1965.»\n",
      "[2] «Scuderia | Scuderia means \"stable\" in the Italian language. It has entered English usage mainly through professional auto racing, in which many Italian teams incorporate the term in their names.»\n",
      "[3] «La Rinascente | La Rinascente (derived from Rinascita - means \"rebirth\" in Italian) is a Thai owned Italian retailer operating upscale department stores in the area of clothing, household and beauty products, founded in Milan in 1917 by Senatore Borletti from the merger of the businesses \"Alle città d'Italia\" and \"Magazzini Vittoria\".»\n",
      "\n",
      "Question: Who purchased the team Michael Schumacher raced for in the 1995 Monaco Grand Prix in 2000?\n",
      "\n",
      "Reasoning: Let's think step by step in order to Here is the output:\n",
      "\n",
      "Context:\n",
      "[1] «Benetton Group | Benetton Group S.r.l. (correct ] ; often mispronounced ] or ] ) is a global fashion brand, based in Ponzano Veneto, Italy. The name comes from the Benetton family who founded the company in 1965.»\n",
      "[2] «Scuderia | Scuderia means \"stable\" in the Italian language. It has entered English usage mainly through professional auto racing, in which many Italian teams incorporate the term in their names.»\n",
      "[3] «La Rinascente | La Rinascente (derived from Rinascita - means \"rebirth\" in Italian) is a Thai owned Italian retailer operating\n",
      "\n",
      "\n",
      "\n"
     ]
    },
    {
     "data": {
      "text/plain": [
       "'\\n\\n\\nGiven the fields `context`, `question`, produce the fields `search_query`.\\n\\n---\\n\\nFollow the following format.\\n\\nContext: ${context}\\n\\nQuestion: ${question}\\n\\nReasoning: Let\\'s think step by step in order to ${produce the search_query}. We ...\\n\\nSearch Query: ${search_query}\\n\\n---\\n\\nContext:\\n[1] «Benetton Group | Benetton Group S.r.l. (correct ] ; often mispronounced ] or ] ) is a global fashion brand, based in Ponzano Veneto, Italy. The name comes from the Benetton family who founded the company in 1965.»\\n[2] «Scuderia | Scuderia means \"stable\" in the Italian language. It has entered English usage mainly through professional auto racing, in which many Italian teams incorporate the term in their names.»\\n[3] «La Rinascente | La Rinascente (derived from Rinascita - means \"rebirth\" in Italian) is a Thai owned Italian retailer operating upscale department stores in the area of clothing, household and beauty products, founded in Milan in 1917 by Senatore Borletti from the merger of the businesses \"Alle città d\\'Italia\" and \"Magazzini Vittoria\".»\\n\\nQuestion: Who purchased the team Michael Schumacher raced for in the 1995 Monaco Grand Prix in 2000?\\n\\nReasoning: Let\\'s think step by step in order to\\x1b[32m Here is the output:\\n\\nContext:\\n[1] «Benetton Group | Benetton Group S.r.l. (correct ] ; often mispronounced ] or ] ) is a global fashion brand, based in Ponzano Veneto, Italy. The name comes from the Benetton family who founded the company in 1965.»\\n[2] «Scuderia | Scuderia means \"stable\" in the Italian language. It has entered English usage mainly through professional auto racing, in which many Italian teams incorporate the term in their names.»\\n[3] «La Rinascente | La Rinascente (derived from Rinascita - means \"rebirth\" in Italian) is a Thai owned Italian retailer operating\\x1b[0m\\n\\n\\n'"
      ]
     },
     "execution_count": 35,
     "metadata": {},
     "output_type": "execute_result"
    }
   ],
   "source": [
    "multihop_compiled(question=\"Who purchased the team Michael Schumacher raced for in the 1995 Monaco Grand Prix in 2000?\")\n",
    "llama3.inspect_history(n=1,skip=3)"
   ]
  },
  {
   "cell_type": "code",
   "execution_count": null,
   "metadata": {},
   "outputs": [],
   "source": []
  }
 ],
 "metadata": {
  "language_info": {
   "name": "python"
  }
 },
 "nbformat": 4,
 "nbformat_minor": 2
}
